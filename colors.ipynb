{
 "cells": [
  {
   "cell_type": "markdown",
   "metadata": {},
   "source": [
    "Testing proposed colors based on [#8832](https://github.com/jupyterlab/jupyterlab/issues/8832).\n",
    "\n",
    "Here's a list of the variables that have been changed (in [light mode](https://github.com/jupyterlab/jupyterlab/blob/ec5fd3c4d83989b42f77e16caf70558ca4728bbe/packages/theme-light-extension/style/variables.css#L218)):\n",
    "\n",
    "-  `--jp-brand-color0` from `--md-blue-700` to `--md-blue-900`\n",
    "- `--jp-brand-color1` from `--md-blue-500` to `--md-blue-700`\n",
    "- `--jp-accent-color0` from `--md-green-700` to `--md-green-900`\n",
    "- `--jp-accent-color1` from `--md-green-500` to `--md-green-700`\n",
    "-  `--jp-warn-color0` from `--md-orange-700` to `--md-orange-900`\n",
    "-  `--jp-warn-color1` from `--md-orange-500` to `--md-orange-700`\n",
    "- `--jp-error-color0` from `--md-red-700` to `--md-red-900`\n",
    "- `--jp-error-color1` from `--md-red-500` to `--md-red-700`\n",
    "- `--jp-success-color0` from `--md-green-700` to `--md-green-900`\n",
    "- `--jp-success-color1` from `--md-green-500` to `--md-green-700`\n",
    "- `--jp-info-color0` from `--md-cyan-700` to `--md-cyan-900`\n",
    "- `--jp-info-color1` from `--md-cyan-500` to `--md-cyan-700`"
   ]
  },
  {
   "cell_type": "code",
   "execution_count": null,
   "metadata": {},
   "outputs": [],
   "source": []
  }
 ],
 "metadata": {
  "kernelspec": {
   "display_name": "Python 3",
   "language": "python",
   "name": "python3"
  },
  "language_info": {
   "codemirror_mode": {
    "name": "ipython",
    "version": 3
   },
   "file_extension": ".py",
   "mimetype": "text/x-python",
   "name": "python",
   "nbconvert_exporter": "python",
   "pygments_lexer": "ipython3",
   "version": "3.7.6"
  }
 },
 "nbformat": 4,
 "nbformat_minor": 4
}
